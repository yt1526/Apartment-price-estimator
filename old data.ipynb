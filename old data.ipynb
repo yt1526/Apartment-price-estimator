{
 "cells": [
  {
   "cell_type": "code",
   "execution_count": 1,
   "metadata": {},
   "outputs": [],
   "source": [
    "import pandas as pd\n",
    "import numpy as np\n",
    "import matplotlib.pyplot as plt\n",
    "from sklearn.metrics import r2_score\n",
    "data=pd.read_csv(\"finaldata.csv\")"
   ]
  },
  {
   "cell_type": "code",
   "execution_count": 2,
   "metadata": {},
   "outputs": [],
   "source": [
    "data=data.drop([\"Unnamed: 0\",\"Unnamed: 0.1\"],1)"
   ]
  },
  {
   "cell_type": "code",
   "execution_count": 3,
   "metadata": {},
   "outputs": [],
   "source": [
    "data=data.drop(list(data.index[data.RESIDENTIAL!=1]))"
   ]
  },
  {
   "cell_type": "code",
   "execution_count": 4,
   "metadata": {},
   "outputs": [],
   "source": [
    "data=data.drop([\"RESIDENTIAL\",'MIXED_USE','COMMERCIAL_BUILDINGS', 'INDUSTRIAL_BUILDINGS',\n",
    "       'VACANT_LOTS', 'CIVIC_USE', 'GOVERNMENT_BLDG'],1)"
   ]
  },
  {
   "cell_type": "code",
   "execution_count": 238,
   "metadata": {},
   "outputs": [
    {
     "data": {
      "text/plain": [
       "[0, 10000000.0, 0, 3500]"
      ]
     },
     "execution_count": 238,
     "metadata": {},
     "output_type": "execute_result"
    },
    {
     "data": {
      "image/png": "[encoded data removed]",
      "text/plain": [
       "<Figure size 432x288 with 1 Axes>"
      ]
     },
     "metadata": {},
     "output_type": "display_data"
    }
   ],
   "source": [
    "data[\"SALE PRICE\"].hist(bins=6000)\n",
    "plt.axis([0,1e7, 0, 3500])"
   ]
  },
  {
   "cell_type": "code",
   "execution_count": 250,
   "metadata": {},
   "outputs": [
    {
     "data": {
      "text/plain": [
       "Series([], Name: LAND SQUARE FEET STAN, dtype: float64)"
      ]
     },
     "execution_count": 250,
     "metadata": {},
     "output_type": "execute_result"
    }
   ],
   "source": [
    "data[data['LAND SQUARE FEET STAN']==0]['LAND SQUARE FEET STAN']\n",
    "# .hist(bins=100)\n",
    "# plt.axis([0,0.1, 0, 12000])"
   ]
  },
  {
   "cell_type": "code",
   "execution_count": 5,
   "metadata": {},
   "outputs": [],
   "source": [
    "data=data[data[\"SALE PRICE\"]<40000000]"
   ]
  },
  {
   "cell_type": "code",
   "execution_count": 6,
   "metadata": {},
   "outputs": [],
   "source": [
    "data=data[data[\"SALE PRICE\"]!=30792]"
   ]
  },
  {
   "cell_type": "code",
   "execution_count": 8,
   "metadata": {},
   "outputs": [
    {
     "data": {
      "text/plain": [
       "Index(['SALE PRICE', 'latitude', 'longitude', 'month_1', 'month_2', 'month_3',\n",
       "       'month_4', 'month_5', 'month_6', 'month_7', 'month_8', 'month_9',\n",
       "       'month_10', 'month_11', 'TAX CLASS = 1', 'TAX CLASS = 2',\n",
       "       'One Family Dwellings', 'Two Family Dwellings', 'Walk Up Apartments',\n",
       "       'Elevator Apartments', 'Condominiums', 'Apt Floor_mv', 'Apt Floor STAN',\n",
       "       'LAND SQUARE FEET_mv', 'LAND SQUARE FEET STAN', 'BUILD_YEAR(1800-1900)',\n",
       "       'BUILD_YEAR(1900-2000)', 'BUILD_YEAR(2000-2019)'],\n",
       "      dtype='object')"
      ]
     },
     "execution_count": 8,
     "metadata": {},
     "output_type": "execute_result"
    }
   ],
   "source": [
    "data.columns"
   ]
  },
  {
   "cell_type": "code",
   "execution_count": 164,
   "metadata": {},
   "outputs": [],
   "source": [
    "np.random.seed(1352)\n",
    "shuffled_data = data.loc[np.random.permutation(data.index), :]"
   ]
  },
  {
   "cell_type": "code",
   "execution_count": 165,
   "metadata": {},
   "outputs": [],
   "source": [
    "# n_train = 0.7*len(data)\n",
    "# n_valid = 0.2*len(data)\n",
    "n_train = int(0.85*len(data))\n",
    "n_test = int(0.15*len(data))"
   ]
  },
  {
   "cell_type": "code",
   "execution_count": 166,
   "metadata": {},
   "outputs": [],
   "source": [
    "X_train, y_train = shuffled_data.iloc[:n_train, :].drop(['SALE PRICE'], axis=1), shuffled_data.iloc[:n_train]['SALE PRICE']\n",
    "X_test, y_test = shuffled_data.iloc[n_train:, :].drop(['SALE PRICE'], axis=1), shuffled_data.iloc[n_train:]['SALE PRICE']"
   ]
  },
  {
   "cell_type": "code",
   "execution_count": 167,
   "metadata": {},
   "outputs": [
    {
     "data": {
      "text/html": [
       "<div>\n",
       "<style scoped>\n",
       "    .dataframe tbody tr th:only-of-type {\n",
       "        vertical-align: middle;\n",
       "    }\n",
       "\n",
       "    .dataframe tbody tr th {\n",
       "        vertical-align: top;\n",
       "    }\n",
       "\n",
       "    .dataframe thead th {\n",
       "        text-align: right;\n",
       "    }\n",
       "</style>\n",
       "<table border=\"1\" class=\"dataframe\">\n",
       "  <thead>\n",
       "    <tr style=\"text-align: right;\">\n",
       "      <th></th>\n",
       "      <th>SALE PRICE</th>\n",
       "      <th>latitude</th>\n",
       "      <th>longitude</th>\n",
       "      <th>month_1</th>\n",
       "      <th>month_2</th>\n",
       "      <th>month_3</th>\n",
       "      <th>month_4</th>\n",
       "      <th>month_5</th>\n",
       "      <th>month_6</th>\n",
       "      <th>month_7</th>\n",
       "      <th>...</th>\n",
       "      <th>Walk Up Apartments</th>\n",
       "      <th>Elevator Apartments</th>\n",
       "      <th>Condominiums</th>\n",
       "      <th>Apt Floor_mv</th>\n",
       "      <th>Apt Floor STAN</th>\n",
       "      <th>LAND SQUARE FEET_mv</th>\n",
       "      <th>LAND SQUARE FEET STAN</th>\n",
       "      <th>BUILD_YEAR(1800-1900)</th>\n",
       "      <th>BUILD_YEAR(1900-2000)</th>\n",
       "      <th>BUILD_YEAR(2000-2019)</th>\n",
       "    </tr>\n",
       "  </thead>\n",
       "  <tbody>\n",
       "    <tr>\n",
       "      <th>5611</th>\n",
       "      <td>615000</td>\n",
       "      <td>40.753515</td>\n",
       "      <td>-73.967769</td>\n",
       "      <td>0</td>\n",
       "      <td>0</td>\n",
       "      <td>0</td>\n",
       "      <td>0</td>\n",
       "      <td>0</td>\n",
       "      <td>0</td>\n",
       "      <td>0</td>\n",
       "      <td>...</td>\n",
       "      <td>0</td>\n",
       "      <td>0</td>\n",
       "      <td>1</td>\n",
       "      <td>0</td>\n",
       "      <td>0.022727</td>\n",
       "      <td>1</td>\n",
       "      <td>0.015092</td>\n",
       "      <td>0</td>\n",
       "      <td>1</td>\n",
       "      <td>0</td>\n",
       "    </tr>\n",
       "    <tr>\n",
       "      <th>9627</th>\n",
       "      <td>1850000</td>\n",
       "      <td>40.785621</td>\n",
       "      <td>-73.954649</td>\n",
       "      <td>0</td>\n",
       "      <td>0</td>\n",
       "      <td>0</td>\n",
       "      <td>0</td>\n",
       "      <td>0</td>\n",
       "      <td>0</td>\n",
       "      <td>0</td>\n",
       "      <td>...</td>\n",
       "      <td>0</td>\n",
       "      <td>0</td>\n",
       "      <td>1</td>\n",
       "      <td>0</td>\n",
       "      <td>0.113636</td>\n",
       "      <td>1</td>\n",
       "      <td>0.015092</td>\n",
       "      <td>0</td>\n",
       "      <td>1</td>\n",
       "      <td>0</td>\n",
       "    </tr>\n",
       "    <tr>\n",
       "      <th>6660</th>\n",
       "      <td>975000</td>\n",
       "      <td>40.750041</td>\n",
       "      <td>-73.980008</td>\n",
       "      <td>0</td>\n",
       "      <td>0</td>\n",
       "      <td>0</td>\n",
       "      <td>0</td>\n",
       "      <td>0</td>\n",
       "      <td>0</td>\n",
       "      <td>0</td>\n",
       "      <td>...</td>\n",
       "      <td>0</td>\n",
       "      <td>0</td>\n",
       "      <td>1</td>\n",
       "      <td>0</td>\n",
       "      <td>0.045455</td>\n",
       "      <td>1</td>\n",
       "      <td>0.015092</td>\n",
       "      <td>0</td>\n",
       "      <td>0</td>\n",
       "      <td>0</td>\n",
       "    </tr>\n",
       "    <tr>\n",
       "      <th>9353</th>\n",
       "      <td>710000</td>\n",
       "      <td>40.775774</td>\n",
       "      <td>-73.951415</td>\n",
       "      <td>0</td>\n",
       "      <td>0</td>\n",
       "      <td>0</td>\n",
       "      <td>0</td>\n",
       "      <td>0</td>\n",
       "      <td>0</td>\n",
       "      <td>0</td>\n",
       "      <td>...</td>\n",
       "      <td>0</td>\n",
       "      <td>1</td>\n",
       "      <td>0</td>\n",
       "      <td>0</td>\n",
       "      <td>0.022727</td>\n",
       "      <td>1</td>\n",
       "      <td>0.015092</td>\n",
       "      <td>0</td>\n",
       "      <td>1</td>\n",
       "      <td>0</td>\n",
       "    </tr>\n",
       "    <tr>\n",
       "      <th>1632</th>\n",
       "      <td>750000</td>\n",
       "      <td>40.738465</td>\n",
       "      <td>-73.994878</td>\n",
       "      <td>0</td>\n",
       "      <td>0</td>\n",
       "      <td>0</td>\n",
       "      <td>0</td>\n",
       "      <td>0</td>\n",
       "      <td>0</td>\n",
       "      <td>0</td>\n",
       "      <td>...</td>\n",
       "      <td>1</td>\n",
       "      <td>0</td>\n",
       "      <td>0</td>\n",
       "      <td>0</td>\n",
       "      <td>0.022727</td>\n",
       "      <td>1</td>\n",
       "      <td>0.015092</td>\n",
       "      <td>0</td>\n",
       "      <td>1</td>\n",
       "      <td>0</td>\n",
       "    </tr>\n",
       "  </tbody>\n",
       "</table>\n",
       "<p>5 rows × 28 columns</p>\n",
       "</div>"
      ],
      "text/plain": [
       "      SALE PRICE   latitude  longitude  month_1  month_2  month_3  month_4  \\\n",
       "5611      615000  40.753515 -73.967769        0        0        0        0   \n",
       "9627     1850000  40.785621 -73.954649        0        0        0        0   \n",
       "6660      975000  40.750041 -73.980008        0        0        0        0   \n",
       "9353      710000  40.775774 -73.951415        0        0        0        0   \n",
       "1632      750000  40.738465 -73.994878        0        0        0        0   \n",
       "\n",
       "      month_5  month_6  month_7          ...            Walk Up Apartments  \\\n",
       "5611        0        0        0          ...                             0   \n",
       "9627        0        0        0          ...                             0   \n",
       "6660        0        0        0          ...                             0   \n",
       "9353        0        0        0          ...                             0   \n",
       "1632        0        0        0          ...                             1   \n",
       "\n",
       "      Elevator Apartments  Condominiums  Apt Floor_mv  Apt Floor STAN  \\\n",
       "5611                    0             1             0        0.022727   \n",
       "9627                    0             1             0        0.113636   \n",
       "6660                    0             1             0        0.045455   \n",
       "9353                    1             0             0        0.022727   \n",
       "1632                    0             0             0        0.022727   \n",
       "\n",
       "      LAND SQUARE FEET_mv  LAND SQUARE FEET STAN  BUILD_YEAR(1800-1900)  \\\n",
       "5611                    1               0.015092                      0   \n",
       "9627                    1               0.015092                      0   \n",
       "6660                    1               0.015092                      0   \n",
       "9353                    1               0.015092                      0   \n",
       "1632                    1               0.015092                      0   \n",
       "\n",
       "      BUILD_YEAR(1900-2000)  BUILD_YEAR(2000-2019)  \n",
       "5611                      1                      0  \n",
       "9627                      1                      0  \n",
       "6660                      0                      0  \n",
       "9353                      1                      0  \n",
       "1632                      1                      0  \n",
       "\n",
       "[5 rows x 28 columns]"
      ]
     },
     "execution_count": 167,
     "metadata": {},
     "output_type": "execute_result"
    }
   ],
   "source": [
    "shuffled_data.head()"
   ]
  },
  {
   "cell_type": "code",
   "execution_count": 168,
   "metadata": {},
   "outputs": [
    {
     "data": {
      "text/plain": [
       "0.3070265671947493"
      ]
     },
     "execution_count": 168,
     "metadata": {},
     "output_type": "execute_result"
    }
   ],
   "source": [
    "from sklearn.linear_model import LinearRegression\n",
    "lr = LinearRegression(normalize=True)\n",
    "lr.fit(X_train, y_train)\n",
    "y_test_lr =lr.predict(X_test)\n",
    "r2_score(y_test, y_test_lr)"
   ]
  },
  {
   "cell_type": "code",
   "execution_count": 169,
   "metadata": {},
   "outputs": [
    {
     "data": {
      "text/plain": [
       "Text(0.5,1,'Prediction V.S Actual')"
      ]
     },
     "execution_count": 169,
     "metadata": {},
     "output_type": "execute_result"
    },
    {
     "data": {
      "image/png": "[encoded data removed]",
      "text/plain": [
       "<Figure size 432x288 with 1 Axes>"
      ]
     },
     "metadata": {},
     "output_type": "display_data"
    }
   ],
   "source": [
    "%matplotlib inline\n",
    "plt.scatter(y_test, y_test_lr)\n",
    "plt.xlabel(\"Actual(USD)\")\n",
    "plt.ylabel(\"Prediction(USD)\")\n",
    "plt.title(\"Prediction V.S Actual\")"
   ]
  },
  {
   "cell_type": "code",
   "execution_count": 170,
   "metadata": {},
   "outputs": [
    {
     "data": {
      "text/plain": [
       "7376876037644.5625"
      ]
     },
     "execution_count": 170,
     "metadata": {},
     "output_type": "execute_result"
    }
   ],
   "source": [
    "from sklearn.metrics import mean_squared_error\n",
    "mean_squared_error(y_test, y_test_lr)"
   ]
  },
  {
   "cell_type": "code",
   "execution_count": 171,
   "metadata": {},
   "outputs": [
    {
     "name": "stderr",
     "output_type": "stream",
     "text": [
      "/anaconda3/lib/python3.6/site-packages/numpy/core/fromnumeric.py:52: FutureWarning: 'argmax' is deprecated, use 'idxmax' instead. The behavior of 'argmax'\n",
      "will be corrected to return the positional maximum in the future.\n",
      "Use 'series.values.argmax' to get the position of the maximum now.\n",
      "  return getattr(obj, method)(*args, **kwds)\n"
     ]
    },
    {
     "data": {
      "text/plain": [
       "4780"
      ]
     },
     "execution_count": 171,
     "metadata": {},
     "output_type": "execute_result"
    }
   ],
   "source": [
    "np.argmax(y_test)"
   ]
  },
  {
   "cell_type": "code",
   "execution_count": 172,
   "metadata": {},
   "outputs": [
    {
     "data": {
      "text/plain": [
       "469"
      ]
     },
     "execution_count": 172,
     "metadata": {},
     "output_type": "execute_result"
    }
   ],
   "source": [
    "np.argmax(y_test_lr)"
   ]
  },
  {
   "cell_type": "code",
   "execution_count": 173,
   "metadata": {},
   "outputs": [
    {
     "data": {
      "text/plain": [
       "34750000"
      ]
     },
     "execution_count": 173,
     "metadata": {},
     "output_type": "execute_result"
    }
   ],
   "source": [
    "np.max(y_test)"
   ]
  },
  {
   "cell_type": "code",
   "execution_count": 174,
   "metadata": {},
   "outputs": [
    {
     "data": {
      "text/plain": [
       "array([3211209.14997077, 1811366.93042302, 2949707.20493817, ...,\n",
       "       -277155.41445446,  658580.34115577, 1088864.29068446])"
      ]
     },
     "execution_count": 174,
     "metadata": {},
     "output_type": "execute_result"
    }
   ],
   "source": [
    "y_test_lr"
   ]
  },
  {
   "cell_type": "code",
   "execution_count": 175,
   "metadata": {},
   "outputs": [
    {
     "data": {
      "text/plain": [
       "0.3070265671947391"
      ]
     },
     "execution_count": 175,
     "metadata": {},
     "output_type": "execute_result"
    }
   ],
   "source": [
    "lrinter = LinearRegression(fit_intercept=False)\n",
    "lrinter.fit(X_train, y_train)\n",
    "y_test_lrinter =lrinter.predict(X_test)\n",
    "r2_score(y_test, y_test_lrinter)"
   ]
  },
  {
   "cell_type": "code",
   "execution_count": 177,
   "metadata": {},
   "outputs": [
    {
     "data": {
      "text/plain": [
       "-0.09118643648568803"
      ]
     },
     "execution_count": 177,
     "metadata": {},
     "output_type": "execute_result"
    }
   ],
   "source": [
    "# svm\n",
    "from sklearn import svm\n",
    "vm=svm.SVR(kernel='linear')\n",
    "vm.fit(X_train, y_train)\n",
    "y_test_vm =vm.predict(X_test)\n",
    "r2_score(y_test, y_test_vm)"
   ]
  },
  {
   "cell_type": "code",
   "execution_count": 192,
   "metadata": {},
   "outputs": [
    {
     "name": "stdout",
     "output_type": "stream",
     "text": [
      "0.26348241364170877 0.20678819550026606\n"
     ]
    }
   ],
   "source": [
    "#decision tree\n",
    "from sklearn.tree import DecisionTreeRegressor\n",
    "dtr=DecisionTreeRegressor(max_depth=2)\n",
    "dtr.fit(X_train, y_train)\n",
    "y_test_dtr =dtr.predict(X_test)\n",
    "y_train_dtr=dtr.predict(X_train)\n",
    "print(r2_score(y_test, y_test_dtr),r2_score(y_train, y_train_dtr))"
   ]
  },
  {
   "cell_type": "code",
   "execution_count": 193,
   "metadata": {},
   "outputs": [
    {
     "name": "stdout",
     "output_type": "stream",
     "text": [
      "0.34895110063210644 0.2639952883336001\n"
     ]
    }
   ],
   "source": [
    "dtr=DecisionTreeRegressor(max_depth=3)\n",
    "dtr.fit(X_train, y_train)\n",
    "y_test_dtr =dtr.predict(X_test)\n",
    "y_train_dtr=dtr.predict(X_train)\n",
    "print(r2_score(y_test, y_test_dtr),r2_score(y_train, y_train_dtr))"
   ]
  },
  {
   "cell_type": "code",
   "execution_count": 194,
   "metadata": {},
   "outputs": [
    {
     "name": "stdout",
     "output_type": "stream",
     "text": [
      "0.40103502403194136 0.3287450421676875\n"
     ]
    }
   ],
   "source": [
    "dtr=DecisionTreeRegressor(max_depth=4)\n",
    "dtr.fit(X_train, y_train)\n",
    "y_test_dtr =dtr.predict(X_test)\n",
    "y_train_dtr=dtr.predict(X_train)\n",
    "print(r2_score(y_test, y_test_dtr),r2_score(y_train, y_train_dtr))"
   ]
  },
  {
   "cell_type": "code",
   "execution_count": 195,
   "metadata": {},
   "outputs": [
    {
     "name": "stdout",
     "output_type": "stream",
     "text": [
      "0.4388503937439302 0.36882116525157593\n"
     ]
    }
   ],
   "source": [
    "dtr=DecisionTreeRegressor(max_depth=5)\n",
    "dtr.fit(X_train, y_train)\n",
    "y_test_dtr =dtr.predict(X_test)\n",
    "y_train_dtr=dtr.predict(X_train)\n",
    "print(r2_score(y_test, y_test_dtr),r2_score(y_train, y_train_dtr))"
   ]
  },
  {
   "cell_type": "code",
   "execution_count": 196,
   "metadata": {},
   "outputs": [
    {
     "name": "stdout",
     "output_type": "stream",
     "text": [
      "0.4637179993516255 0.42123275654205194\n"
     ]
    }
   ],
   "source": [
    "dtr=DecisionTreeRegressor(max_depth=6)\n",
    "dtr.fit(X_train, y_train)\n",
    "y_test_dtr =dtr.predict(X_test)\n",
    "y_train_dtr=dtr.predict(X_train)\n",
    "print(r2_score(y_test, y_test_dtr),r2_score(y_train, y_train_dtr))"
   ]
  },
  {
   "cell_type": "code",
   "execution_count": 197,
   "metadata": {},
   "outputs": [
    {
     "name": "stdout",
     "output_type": "stream",
     "text": [
      "0.5088442638129126 0.48810971936431613\n"
     ]
    }
   ],
   "source": [
    "dtr=DecisionTreeRegressor(max_depth=7)\n",
    "dtr.fit(X_train, y_train)\n",
    "y_test_dtr =dtr.predict(X_test)\n",
    "y_train_dtr=dtr.predict(X_train)\n",
    "print(r2_score(y_test, y_test_dtr),r2_score(y_train, y_train_dtr))"
   ]
  },
  {
   "cell_type": "code",
   "execution_count": 198,
   "metadata": {},
   "outputs": [
    {
     "name": "stdout",
     "output_type": "stream",
     "text": [
      "0.5120736484763012 0.5425298676479146\n"
     ]
    }
   ],
   "source": [
    "# best!!!!!!\n",
    "dtr=DecisionTreeRegressor(max_depth=8)\n",
    "dtr.fit(X_train, y_train)\n",
    "y_test_dtr =dtr.predict(X_test)\n",
    "y_train_dtr=dtr.predict(X_train)\n",
    "print(r2_score(y_test, y_test_dtr),r2_score(y_train, y_train_dtr))"
   ]
  },
  {
   "cell_type": "code",
   "execution_count": 199,
   "metadata": {},
   "outputs": [
    {
     "name": "stdout",
     "output_type": "stream",
     "text": [
      "0.5166067831897446 0.6026729071325301\n"
     ]
    }
   ],
   "source": [
    "dtr=DecisionTreeRegressor(max_depth=9)\n",
    "dtr.fit(X_train, y_train)\n",
    "y_test_dtr =dtr.predict(X_test)\n",
    "y_train_dtr=dtr.predict(X_train)\n",
    "print(r2_score(y_test, y_test_dtr),r2_score(y_train, y_train_dtr))"
   ]
  },
  {
   "cell_type": "code",
   "execution_count": 200,
   "metadata": {},
   "outputs": [
    {
     "name": "stdout",
     "output_type": "stream",
     "text": [
      "0.4793343657130209 0.662790855102738\n"
     ]
    }
   ],
   "source": [
    "dtr=DecisionTreeRegressor(max_depth=10)\n",
    "dtr.fit(X_train, y_train)\n",
    "y_test_dtr =dtr.predict(X_test)\n",
    "y_train_dtr=dtr.predict(X_train)\n",
    "print(r2_score(y_test, y_test_dtr),r2_score(y_train, y_train_dtr))"
   ]
  },
  {
   "cell_type": "code",
   "execution_count": 202,
   "metadata": {},
   "outputs": [
    {
     "name": "stdout",
     "output_type": "stream",
     "text": [
      "0.6049014755562565 0.8741868076852102\n"
     ]
    }
   ],
   "source": [
    "# random forest\n",
    "from sklearn.ensemble import RandomForestRegressor\n",
    "rf=RandomForestRegressor()\n",
    "rf.fit(X_train,y_train)\n",
    "y_test_rf=rf.predict(X_test)\n",
    "y_train_rf=rf.predict(X_train)\n",
    "print(r2_score(y_test, y_test_rf),r2_score(y_train, y_train_rf))"
   ]
  },
  {
   "cell_type": "code",
   "execution_count": 181,
   "metadata": {},
   "outputs": [
    {
     "data": {
      "text/plain": [
       "4174509714508.964"
      ]
     },
     "execution_count": 181,
     "metadata": {},
     "output_type": "execute_result"
    }
   ],
   "source": [
    "mean_squared_error(y_test, y_test_rf)"
   ]
  },
  {
   "cell_type": "code",
   "execution_count": 204,
   "metadata": {},
   "outputs": [
    {
     "data": {
      "text/plain": [
       "RandomForestRegressor(bootstrap=True, criterion='mse', max_depth=None,\n",
       "           max_features='auto', max_leaf_nodes=None,\n",
       "           min_impurity_decrease=0.0, min_impurity_split=None,\n",
       "           min_samples_leaf=1, min_samples_split=2,\n",
       "           min_weight_fraction_leaf=0.0, n_estimators=10, n_jobs=1,\n",
       "           oob_score=False, random_state=None, verbose=0, warm_start=False)"
      ]
     },
     "execution_count": 204,
     "metadata": {},
     "output_type": "execute_result"
    }
   ],
   "source": [
    "rf"
   ]
  },
  {
   "cell_type": "code",
   "execution_count": 219,
   "metadata": {},
   "outputs": [
    {
     "name": "stdout",
     "output_type": "stream",
     "text": [
      "0.48737273291033856\n"
     ]
    }
   ],
   "source": [
    "from sklearn.model_selection import GridSearchCV\n",
    "from sklearn.model_selection import KFold\n",
    "#Use Kfold to create 4 folds\n",
    "X= shuffled_data.drop(['SALE PRICE'], axis=1)\n",
    "Y= shuffled_data['SALE PRICE']\n",
    "kfolds = KFold(n_splits = 4)\n",
    "param_grid_rf = {'max_depth': [3*i for i in range(3, 9)],\n",
    "                 \"min_samples_leaf\":[i for i in range(2,100,10)]}\n",
    "lr_grid_search = GridSearchCV(RandomForestRegressor(), param_grid_rf, cv = kfolds, scoring = 'r2') \n",
    "lr_grid_search.fit(X, Y)\n",
    "best_1 = lr_grid_search.best_score_\n",
    "print(best_1)"
   ]
  },
  {
   "cell_type": "code",
   "execution_count": 220,
   "metadata": {},
   "outputs": [
    {
     "data": {
      "text/plain": [
       "RandomForestRegressor(bootstrap=True, criterion='mse', max_depth=18,\n",
       "           max_features='auto', max_leaf_nodes=None,\n",
       "           min_impurity_decrease=0.0, min_impurity_split=None,\n",
       "           min_samples_leaf=2, min_samples_split=2,\n",
       "           min_weight_fraction_leaf=0.0, n_estimators=10, n_jobs=1,\n",
       "           oob_score=False, random_state=None, verbose=0, warm_start=False)"
      ]
     },
     "execution_count": 220,
     "metadata": {},
     "output_type": "execute_result"
    }
   ],
   "source": [
    "best=lr_grid_search.best_estimator_\n",
    "best"
   ]
  },
  {
   "cell_type": "code",
   "execution_count": 221,
   "metadata": {},
   "outputs": [
    {
     "name": "stdout",
     "output_type": "stream",
     "text": [
      "0.6371272905883718 0.7921606458969465\n"
     ]
    }
   ],
   "source": [
    "best.fit(X_train,y_train)\n",
    "y_test_rf=best.predict(X_test)\n",
    "y_train_rf=best.predict(X_train)\n",
    "print(r2_score(y_test, y_test_rf),r2_score(y_train, y_train_rf))"
   ]
  },
  {
   "cell_type": "code",
   "execution_count": 222,
   "metadata": {},
   "outputs": [
    {
     "name": "stdout",
     "output_type": "stream",
     "text": [
      "0.48755101761260206\n"
     ]
    }
   ],
   "source": [
    "param_grid_rf = {'max_depth': [3*i for i in range(3, 9)],\n",
    "                 \"min_samples_split\":[i for i in range(2,100,10)]}\n",
    "lr_grid_search = GridSearchCV(RandomForestRegressor(), param_grid_rf, cv = kfolds, scoring = 'r2') \n",
    "lr_grid_search.fit(X, Y)\n",
    "best_1 = lr_grid_search.best_score_\n",
    "print(best_1)"
   ]
  },
  {
   "cell_type": "code",
   "execution_count": 223,
   "metadata": {},
   "outputs": [
    {
     "data": {
      "text/plain": [
       "RandomForestRegressor(bootstrap=True, criterion='mse', max_depth=15,\n",
       "           max_features='auto', max_leaf_nodes=None,\n",
       "           min_impurity_decrease=0.0, min_impurity_split=None,\n",
       "           min_samples_leaf=1, min_samples_split=2,\n",
       "           min_weight_fraction_leaf=0.0, n_estimators=10, n_jobs=1,\n",
       "           oob_score=False, random_state=None, verbose=0, warm_start=False)"
      ]
     },
     "execution_count": 223,
     "metadata": {},
     "output_type": "execute_result"
    }
   ],
   "source": [
    "best=lr_grid_search.best_estimator_\n",
    "best"
   ]
  },
  {
   "cell_type": "code",
   "execution_count": 224,
   "metadata": {},
   "outputs": [
    {
     "name": "stdout",
     "output_type": "stream",
     "text": [
      "0.6149340263416636 0.8320042220937452\n"
     ]
    }
   ],
   "source": [
    "best.fit(X_train,y_train)\n",
    "y_test_rf=best.predict(X_test)\n",
    "y_train_rf=best.predict(X_train)\n",
    "print(r2_score(y_test, y_test_rf),r2_score(y_train, y_train_rf))"
   ]
  },
  {
   "cell_type": "code",
   "execution_count": 225,
   "metadata": {},
   "outputs": [
    {
     "name": "stdout",
     "output_type": "stream",
     "text": [
      "0.5113159063692287\n"
     ]
    }
   ],
   "source": [
    "param_grid_rf = {'max_depth': [3*i for i in range(3, 9)],\n",
    "                 \"min_samples_leaf\":[2],\n",
    "                \"n_estimators\":[i for i in range(10,100,10)]}\n",
    "lr_grid_search = GridSearchCV(RandomForestRegressor(), param_grid_rf, cv = kfolds, scoring = 'r2') \n",
    "lr_grid_search.fit(X, Y)\n",
    "best_1 = lr_grid_search.best_score_\n",
    "print(best_1)"
   ]
  },
  {
   "cell_type": "code",
   "execution_count": 226,
   "metadata": {},
   "outputs": [
    {
     "data": {
      "text/plain": [
       "RandomForestRegressor(bootstrap=True, criterion='mse', max_depth=21,\n",
       "           max_features='auto', max_leaf_nodes=None,\n",
       "           min_impurity_decrease=0.0, min_impurity_split=None,\n",
       "           min_samples_leaf=2, min_samples_split=2,\n",
       "           min_weight_fraction_leaf=0.0, n_estimators=40, n_jobs=1,\n",
       "           oob_score=False, random_state=None, verbose=0, warm_start=False)"
      ]
     },
     "execution_count": 226,
     "metadata": {},
     "output_type": "execute_result"
    }
   ],
   "source": [
    "best=lr_grid_search.best_estimator_\n",
    "best"
   ]
  },
  {
   "cell_type": "code",
   "execution_count": 227,
   "metadata": {},
   "outputs": [
    {
     "name": "stdout",
     "output_type": "stream",
     "text": [
      "0.657578471040731 0.809559313949072\n"
     ]
    }
   ],
   "source": [
    "best.fit(X_train,y_train)\n",
    "y_test_rf=best.predict(X_test)\n",
    "y_train_rf=best.predict(X_train)\n",
    "print(r2_score(y_test, y_test_rf),r2_score(y_train, y_train_rf))"
   ]
  },
  {
   "cell_type": "code",
   "execution_count": null,
   "metadata": {},
   "outputs": [],
   "source": []
  }
 ],
 "metadata": {
  "kernelspec": {
   "display_name": "Python 3",
   "language": "python",
   "name": "python3"
  },
  "language_info": {
   "codemirror_mode": {
    "name": "ipython",
    "version": 3
   },
   "file_extension": ".py",
   "mimetype": "text/x-python",
   "name": "python",
   "nbconvert_exporter": "python",
   "pygments_lexer": "ipython3",
   "version": "3.6.5"
  }
 },
 "nbformat": 4,
 "nbformat_minor": 2
}
