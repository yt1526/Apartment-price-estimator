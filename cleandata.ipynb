{
 "cells": [
  {
   "cell_type": "code",
   "execution_count": 1,
   "metadata": {},
   "outputs": [],
   "source": [
    "import pandas as pd\n",
    "import numpy as np"
   ]
  },
  {
   "cell_type": "code",
   "execution_count": 2,
   "metadata": {},
   "outputs": [],
   "source": [
    "# Read excel\n",
    "data = pd.read_csv('Data.csv')"
   ]
  },
  {
   "cell_type": "code",
   "execution_count": 3,
   "metadata": {},
   "outputs": [
    {
     "data": {
      "text/plain": [
       "0         5/22/18\n",
       "1          9/7/18\n",
       "2          9/5/18\n",
       "3          5/9/18\n",
       "4         5/18/18\n",
       "5          6/4/18\n",
       "6          3/5/18\n",
       "7          3/5/18\n",
       "8         5/18/18\n",
       "9        11/13/17\n",
       "10        5/18/18\n",
       "11        3/29/18\n",
       "12         6/4/18\n",
       "13        9/21/18\n",
       "14        8/28/18\n",
       "15         1/3/18\n",
       "16        2/28/18\n",
       "17        11/6/17\n",
       "18        5/31/18\n",
       "19        11/2/17\n",
       "20        7/16/18\n",
       "21        2/27/18\n",
       "22         9/7/18\n",
       "23        1/18/18\n",
       "24        8/27/18\n",
       "25        4/10/18\n",
       "26        1/11/18\n",
       "27       11/22/17\n",
       "28         2/8/18\n",
       "29        9/17/18\n",
       "           ...   \n",
       "12726      9/7/18\n",
       "12727     9/21/18\n",
       "12728     8/28/18\n",
       "12729     12/1/17\n",
       "12730     4/26/18\n",
       "12731     9/12/18\n",
       "12732     8/28/18\n",
       "12733     4/30/18\n",
       "12734      4/3/18\n",
       "12735     6/27/18\n",
       "12736    12/11/17\n",
       "12737     7/12/18\n",
       "12738    11/16/17\n",
       "12739     10/3/17\n",
       "12740     5/10/18\n",
       "12741     9/13/18\n",
       "12742     5/10/18\n",
       "12743    12/18/17\n",
       "12744    12/27/17\n",
       "12745     5/23/18\n",
       "12746     7/23/18\n",
       "12747     10/4/17\n",
       "12748    12/29/17\n",
       "12749     2/22/18\n",
       "12750     6/29/18\n",
       "12751      5/9/18\n",
       "12752     4/17/18\n",
       "12753      9/4/18\n",
       "12754    10/24/17\n",
       "12755     12/8/17\n",
       "Name: SALE DATE, Length: 12756, dtype: object"
      ]
     },
     "execution_count": 3,
     "metadata": {},
     "output_type": "execute_result"
    }
   ],
   "source": [
    "data['SALE DATE']"
   ]
  },
  {
   "cell_type": "code",
   "execution_count": 4,
   "metadata": {
    "scrolled": true
   },
   "outputs": [],
   "source": [
    "mon = lambda x: x.split('/')[0]\n",
    "data['Sale_month'] = data['SALE DATE'].map(mon)\n",
    "for month in range(1,13):\n",
    "    data['month_' + str(month)] = np.where(data['Sale_month'] == month, 1, 0)"
   ]
  },
  {
   "cell_type": "code",
   "execution_count": 5,
   "metadata": {},
   "outputs": [],
   "source": [
    "# Tax class\n",
    "tax_class = data['TAX CLASS AT TIME OF SALE'].unique().tolist()\n",
    "for tax in tax_class:\n",
    "    data['TAX CLASS = ' + str(tax)] = np.where(data['TAX CLASS AT TIME OF SALE'] == tax, 1, 0)"
   ]
  },
  {
   "cell_type": "code",
   "execution_count": 6,
   "metadata": {},
   "outputs": [],
   "source": [
    "# Building class\n",
    "RESIDENTIAL = ['A', 'B', 'C', 'D', 'R']\n",
    "MIXED_USE = ['S']\n",
    "COMMERCIAL_BUILDINGS = ['H','K','L','O']\n",
    "INDUSTRIAL_BUILDINGS = ['E', 'F', 'G','T','U']\n",
    "VACANT_LOTS = ['V']\n",
    "CIVIC_USE = ['I','J','M','N','P','Q','W']\n",
    "GOVERNMENTa_BLDG = ['Y']\n",
    "OTHERS = ['Z']\n",
    "class_dict = {'RESIDENTIAL': RESIDENTIAL, 'MIXED_USE': MIXED_USE, 'COMMERCIAL_BUILDINGS':COMMERCIAL_BUILDINGS, \n",
    "             'INDUSTRIAL_BUILDINGS':INDUSTRIAL_BUILDINGS, 'VACANT_LOTS':VACANT_LOTS, 'CIVIC_USE': CIVIC_USE, \n",
    "              'GOVERNMENT_BLDG':GOVERNMENTa_BLDG, 'OTHERS':OTHERS}\n",
    "RESIDENTIAL_CLASS = {'One Family Dwellings': 'A','Two Family Dwellings': 'B','Walk Up Apartments':'C',\n",
    "                     'Elevator Apartments':'D','Condominiums':'R'}\n",
    "for key, value in class_dict.items():\n",
    "    data[key] = np.where(data['BUILDING CLASS'].isin(value), 1, 0)\n",
    "    if key == 'RESIDENTIAL':\n",
    "        for key0, value0 in RESIDENTIAL_CLASS.items():\n",
    "            data[key0] = np.where(data['BUILDING CLASS'] == value0, 1, 0)"
   ]
  },
  {
   "cell_type": "code",
   "execution_count": 7,
   "metadata": {},
   "outputs": [],
   "source": [
    "# Help function\n",
    "def MatFromList(match_list):\n",
    "    for i in match_list:\n",
    "        if i:\n",
    "            return i\n",
    "    return False"
   ]
  },
  {
   "cell_type": "code",
   "execution_count": 8,
   "metadata": {},
   "outputs": [],
   "source": [
    "# Apartment Floor\n",
    "import re\n",
    "# Deal with unit style number+alphabet\n",
    "pat_0A = r'^([0-9]{1,2})[A-Za-z]$'\n",
    "# Deal with unit style: (alphabet)+3/4 numbers\n",
    "pat_0000 = r'^[A-Z]?([0-9]{1,2})([0-9]{2})$'\n",
    "# Deal with unit style numer and N/W/E/S/\n",
    "pat_N0A = r'^[NSEW]([0-9]{1,2})[A-Za-z]$'\n",
    "pat_A0N = r'^[A-Za-z]([0-9]{1,2})([NSEW])$'\n",
    "pat_0AN = r'^([0-9]{1,2})[A-Za-z]([NSEW])$'\n",
    "data['Apt Floor']=0\n",
    "\n",
    "for idx,x in zip(data.index, data['APARTMENT NUMBER']):\n",
    "    xs = x.replace('-','').replace('#', '').replace(' ', '').split('/')\n",
    "    for x in xs:\n",
    "        m1 = re.match(pat_0A, x)\n",
    "        m2 = re.match(pat_0000, x)\n",
    "        m3 = re.match(pat_N0A, x)\n",
    "        m4 = re.match(pat_A0N, x)\n",
    "        m5 = re.match(pat_0AN, x)\n",
    "        match = MatFromList([m1, m2, m3, m4, m5])\n",
    "        if match:\n",
    "            data.loc[idx, 'Apt Floor'] = int(match.group(1))\n",
    "data['Apt Floor_mv'] = (data['Apt Floor']==0).astype(int)\n",
    "blmin=np.min(data['Apt Floor'])\n",
    "blmax=np.max(data['Apt Floor'])\n",
    "data[\"Apt Floor STAN\"]=list(map(lambda x: (x-blmin)/(blmax-blmin),data['Apt Floor']))\n",
    "data=data.drop([\"Apt Floor\"],axis=1)"
   ]
  },
  {
   "cell_type": "code",
   "execution_count": 9,
   "metadata": {},
   "outputs": [
    {
     "name": "stderr",
     "output_type": "stream",
     "text": [
      "/anaconda3/lib/python3.6/site-packages/ipykernel_launcher.py:4: SettingWithCopyWarning: \n",
      "A value is trying to be set on a copy of a slice from a DataFrame\n",
      "\n",
      "See the caveats in the documentation: http://pandas.pydata.org/pandas-docs/stable/indexing.html#indexing-view-versus-copy\n",
      "  after removing the cwd from sys.path.\n"
     ]
    }
   ],
   "source": [
    "# LAND SQUARE FEET: feed missing with mean and create a missing dummy\n",
    "data['LAND SQUARE FEET_mv'] = (data['LAND SQUARE FEET']==0).astype(int)\n",
    "mean_area = data['LAND SQUARE FEET'][data['LAND SQUARE FEET_mv']==0].mean()\n",
    "data['LAND SQUARE FEET'][data['LAND SQUARE FEET_mv']==1]=mean_area\n",
    "blmin=np.min(data[\"LAND SQUARE FEET\"])\n",
    "blmax=np.max(data[\"LAND SQUARE FEET\"])\n",
    "data[\"LAND SQUARE FEET STAN\"]=list(map(lambda x: (x-blmin)/(blmax-blmin),data[\"LAND SQUARE FEET\"]))\n",
    "data=data.drop([\"LAND SQUARE FEET\"],axis=1)"
   ]
  },
  {
   "cell_type": "code",
   "execution_count": 10,
   "metadata": {},
   "outputs": [],
   "source": [
    "# Years\n",
    "year_list = [1800, 1900, 2000, 2019]\n",
    "for i in range(len(year_list)-1):\n",
    "    data['BUILD_YEAR('+str(year_list[i])+'-'+str(year_list[i+1])+')'] = np.where(data['YEAR BUILT'].isin(range(year_list[i], year_list[i+1])), 1, 0)"
   ]
  },
  {
   "cell_type": "code",
   "execution_count": 11,
   "metadata": {},
   "outputs": [
    {
     "data": {
      "text/plain": [
       "Index(['Unnamed: 0', 'BOROUGH', 'NEIGHBORHOOD', 'BUILDING CLASS CATEGORY',\n",
       "       'TAX CLASS AT PRESENT', 'BLOCK', 'LOT', 'EASE-MENT',\n",
       "       'BUILDING CLASS AT PRESENT', 'ADDRESS', 'APARTMENT NUMBER', 'ZIP CODE',\n",
       "       'RESIDENTIAL UNITS', 'COMMERCIAL UNITS', 'TOTAL UNITS',\n",
       "       'GROSS SQUARE FEET', 'YEAR BUILT', 'TAX CLASS AT TIME OF SALE',\n",
       "       'BUILDING CLASS AT TIME OF SALE', 'SALE PRICE', 'SALE DATE',\n",
       "       'BUILDING CLASS', 'BUILDING CLASS NO', 'location', 'latitude',\n",
       "       'longitude', 'zip', 'co_wrong', 'co_mv', 'Sale_month', 'month_1',\n",
       "       'month_2', 'month_3', 'month_4', 'month_5', 'month_6', 'month_7',\n",
       "       'month_8', 'month_9', 'month_10', 'month_11', 'month_12',\n",
       "       'TAX CLASS = 1', 'TAX CLASS = 2', 'TAX CLASS = 4', 'RESIDENTIAL',\n",
       "       'One Family Dwellings', 'Two Family Dwellings', 'Walk Up Apartments',\n",
       "       'Elevator Apartments', 'Condominiums', 'MIXED_USE',\n",
       "       'COMMERCIAL_BUILDINGS', 'INDUSTRIAL_BUILDINGS', 'VACANT_LOTS',\n",
       "       'CIVIC_USE', 'GOVERNMENT_BLDG', 'OTHERS', 'Apt Floor_mv',\n",
       "       'Apt Floor STAN', 'LAND SQUARE FEET_mv', 'LAND SQUARE FEET STAN',\n",
       "       'BUILD_YEAR(1800-1900)', 'BUILD_YEAR(1900-2000)',\n",
       "       'BUILD_YEAR(2000-2019)'],\n",
       "      dtype='object')"
      ]
     },
     "execution_count": 11,
     "metadata": {},
     "output_type": "execute_result"
    }
   ],
   "source": [
    "data.columns"
   ]
  },
  {
   "cell_type": "code",
   "execution_count": 12,
   "metadata": {
    "scrolled": true
   },
   "outputs": [],
   "source": [
    "data = data.drop(['BOROUGH', 'NEIGHBORHOOD', 'BUILDING CLASS CATEGORY','TAX CLASS AT PRESENT', 'BLOCK', \n",
    "                  'LOT', 'EASE-MENT','BUILDING CLASS AT PRESENT', 'ADDRESS', 'APARTMENT NUMBER', 'ZIP CODE',\n",
    "                  'RESIDENTIAL UNITS', 'COMMERCIAL UNITS', 'TOTAL UNITS','GROSS SQUARE FEET', 'YEAR BUILT',\n",
    "                  'TAX CLASS AT TIME OF SALE', 'BUILDING CLASS AT TIME OF SALE', 'SALE DATE', 'Sale_month', \n",
    "                  'BUILDING CLASS', 'BUILDING CLASS NO','month_12','TAX CLASS = 4','OTHERS', 'zip', 'co_wrong', 'co_mv','location'], axis=1)"
   ]
  },
  {
   "cell_type": "code",
   "execution_count": 13,
   "metadata": {},
   "outputs": [],
   "source": [
    "data.to_csv(\"finaldata.csv\")"
   ]
  },
  {
   "cell_type": "code",
   "execution_count": null,
   "metadata": {},
   "outputs": [],
   "source": [
    "#np.random.seed(2905)\n",
    "shuffled_data = data.loc[np.random.permutation(data.index), :]\n",
    "shuffled_data"
   ]
  },
  {
   "cell_type": "code",
   "execution_count": 13,
   "metadata": {},
   "outputs": [
    {
     "data": {
      "text/html": [
       "<div>\n",
       "<style scoped>\n",
       "    .dataframe tbody tr th:only-of-type {\n",
       "        vertical-align: middle;\n",
       "    }\n",
       "\n",
       "    .dataframe tbody tr th {\n",
       "        vertical-align: top;\n",
       "    }\n",
       "\n",
       "    .dataframe thead th {\n",
       "        text-align: right;\n",
       "    }\n",
       "</style>\n",
       "<table border=\"1\" class=\"dataframe\">\n",
       "  <thead>\n",
       "    <tr style=\"text-align: right;\">\n",
       "      <th></th>\n",
       "      <th>Unnamed: 0</th>\n",
       "      <th>SALE PRICE</th>\n",
       "      <th>latitude</th>\n",
       "      <th>longitude</th>\n",
       "      <th>month_1</th>\n",
       "      <th>month_2</th>\n",
       "      <th>month_3</th>\n",
       "      <th>month_4</th>\n",
       "      <th>month_5</th>\n",
       "      <th>month_6</th>\n",
       "      <th>...</th>\n",
       "      <th>VACANT_LOTS</th>\n",
       "      <th>CIVIC_USE</th>\n",
       "      <th>GOVERNMENT_BLDG</th>\n",
       "      <th>Apt Floor_mv</th>\n",
       "      <th>Apt Floor STAN</th>\n",
       "      <th>LAND SQUARE FEET_mv</th>\n",
       "      <th>LAND SQUARE FEET STAN</th>\n",
       "      <th>BUILD_YEAR(1800-1900)</th>\n",
       "      <th>BUILD_YEAR(1900-2000)</th>\n",
       "      <th>BUILD_YEAR(2000-2019)</th>\n",
       "    </tr>\n",
       "  </thead>\n",
       "  <tbody>\n",
       "    <tr>\n",
       "      <th>7488</th>\n",
       "      <td>7488</td>\n",
       "      <td>3125000</td>\n",
       "      <td>40.715823</td>\n",
       "      <td>-74.012136</td>\n",
       "      <td>0</td>\n",
       "      <td>0</td>\n",
       "      <td>0</td>\n",
       "      <td>0</td>\n",
       "      <td>0</td>\n",
       "      <td>0</td>\n",
       "      <td>...</td>\n",
       "      <td>0</td>\n",
       "      <td>0</td>\n",
       "      <td>0</td>\n",
       "      <td>0</td>\n",
       "      <td>0.238636</td>\n",
       "      <td>1</td>\n",
       "      <td>0.015092</td>\n",
       "      <td>0</td>\n",
       "      <td>0</td>\n",
       "      <td>1</td>\n",
       "    </tr>\n",
       "    <tr>\n",
       "      <th>488</th>\n",
       "      <td>488</td>\n",
       "      <td>2360000</td>\n",
       "      <td>40.741533</td>\n",
       "      <td>-73.994045</td>\n",
       "      <td>0</td>\n",
       "      <td>0</td>\n",
       "      <td>0</td>\n",
       "      <td>0</td>\n",
       "      <td>0</td>\n",
       "      <td>0</td>\n",
       "      <td>...</td>\n",
       "      <td>0</td>\n",
       "      <td>0</td>\n",
       "      <td>0</td>\n",
       "      <td>0</td>\n",
       "      <td>0.022727</td>\n",
       "      <td>1</td>\n",
       "      <td>0.015092</td>\n",
       "      <td>0</td>\n",
       "      <td>0</td>\n",
       "      <td>0</td>\n",
       "    </tr>\n",
       "    <tr>\n",
       "      <th>3954</th>\n",
       "      <td>3954</td>\n",
       "      <td>610000</td>\n",
       "      <td>40.821061</td>\n",
       "      <td>-73.951133</td>\n",
       "      <td>0</td>\n",
       "      <td>0</td>\n",
       "      <td>0</td>\n",
       "      <td>0</td>\n",
       "      <td>0</td>\n",
       "      <td>0</td>\n",
       "      <td>...</td>\n",
       "      <td>0</td>\n",
       "      <td>0</td>\n",
       "      <td>0</td>\n",
       "      <td>1</td>\n",
       "      <td>0.000000</td>\n",
       "      <td>1</td>\n",
       "      <td>0.015092</td>\n",
       "      <td>0</td>\n",
       "      <td>1</td>\n",
       "      <td>0</td>\n",
       "    </tr>\n",
       "    <tr>\n",
       "      <th>1842</th>\n",
       "      <td>1842</td>\n",
       "      <td>18100000</td>\n",
       "      <td>40.743382</td>\n",
       "      <td>-73.988471</td>\n",
       "      <td>0</td>\n",
       "      <td>0</td>\n",
       "      <td>0</td>\n",
       "      <td>0</td>\n",
       "      <td>0</td>\n",
       "      <td>0</td>\n",
       "      <td>...</td>\n",
       "      <td>0</td>\n",
       "      <td>0</td>\n",
       "      <td>0</td>\n",
       "      <td>0</td>\n",
       "      <td>0.227273</td>\n",
       "      <td>1</td>\n",
       "      <td>0.015092</td>\n",
       "      <td>0</td>\n",
       "      <td>1</td>\n",
       "      <td>0</td>\n",
       "    </tr>\n",
       "    <tr>\n",
       "      <th>10682</th>\n",
       "      <td>10682</td>\n",
       "      <td>29500000</td>\n",
       "      <td>40.769709</td>\n",
       "      <td>-73.981079</td>\n",
       "      <td>0</td>\n",
       "      <td>0</td>\n",
       "      <td>0</td>\n",
       "      <td>0</td>\n",
       "      <td>0</td>\n",
       "      <td>0</td>\n",
       "      <td>...</td>\n",
       "      <td>0</td>\n",
       "      <td>0</td>\n",
       "      <td>0</td>\n",
       "      <td>0</td>\n",
       "      <td>0.159091</td>\n",
       "      <td>1</td>\n",
       "      <td>0.015092</td>\n",
       "      <td>0</td>\n",
       "      <td>0</td>\n",
       "      <td>1</td>\n",
       "    </tr>\n",
       "  </tbody>\n",
       "</table>\n",
       "<p>5 rows × 36 columns</p>\n",
       "</div>"
      ],
      "text/plain": [
       "       Unnamed: 0  SALE PRICE   latitude  longitude  month_1  month_2  \\\n",
       "7488         7488     3125000  40.715823 -74.012136        0        0   \n",
       "488           488     2360000  40.741533 -73.994045        0        0   \n",
       "3954         3954      610000  40.821061 -73.951133        0        0   \n",
       "1842         1842    18100000  40.743382 -73.988471        0        0   \n",
       "10682       10682    29500000  40.769709 -73.981079        0        0   \n",
       "\n",
       "       month_3  month_4  month_5  month_6          ...            VACANT_LOTS  \\\n",
       "7488         0        0        0        0          ...                      0   \n",
       "488          0        0        0        0          ...                      0   \n",
       "3954         0        0        0        0          ...                      0   \n",
       "1842         0        0        0        0          ...                      0   \n",
       "10682        0        0        0        0          ...                      0   \n",
       "\n",
       "       CIVIC_USE  GOVERNMENT_BLDG  Apt Floor_mv  Apt Floor STAN  \\\n",
       "7488           0                0             0        0.238636   \n",
       "488            0                0             0        0.022727   \n",
       "3954           0                0             1        0.000000   \n",
       "1842           0                0             0        0.227273   \n",
       "10682          0                0             0        0.159091   \n",
       "\n",
       "       LAND SQUARE FEET_mv  LAND SQUARE FEET STAN  BUILD_YEAR(1800-1900)  \\\n",
       "7488                     1               0.015092                      0   \n",
       "488                      1               0.015092                      0   \n",
       "3954                     1               0.015092                      0   \n",
       "1842                     1               0.015092                      0   \n",
       "10682                    1               0.015092                      0   \n",
       "\n",
       "       BUILD_YEAR(1900-2000)  BUILD_YEAR(2000-2019)  \n",
       "7488                       0                      1  \n",
       "488                        0                      0  \n",
       "3954                       1                      0  \n",
       "1842                       1                      0  \n",
       "10682                      0                      1  \n",
       "\n",
       "[5 rows x 36 columns]"
      ]
     },
     "execution_count": 13,
     "metadata": {},
     "output_type": "execute_result"
    }
   ],
   "source": [
    "shuffled_data.head()"
   ]
  },
  {
   "cell_type": "code",
   "execution_count": 14,
   "metadata": {},
   "outputs": [],
   "source": [
    "# n_train = 0.7*len(data)\n",
    "# n_valid = 0.2*len(data)\n",
    "n_train = int(0.85*len(data))\n",
    "n_test = int(0.15*len(data))"
   ]
  },
  {
   "cell_type": "code",
   "execution_count": 15,
   "metadata": {
    "scrolled": true
   },
   "outputs": [],
   "source": [
    "shuffled_data = data.loc[np.random.permutation(data.index), :]\n",
    "X_train, y_train = shuffled_data.iloc[:n_train, :].drop(['SALE PRICE'], axis=1), shuffled_data.iloc[:n_train]['SALE PRICE']\n",
    "X_test, y_test = shuffled_data.iloc[n_train:, :].drop(['SALE PRICE'], axis=1), shuffled_data.iloc[n_train:]['SALE PRICE']"
   ]
  },
  {
   "cell_type": "code",
   "execution_count": 16,
   "metadata": {},
   "outputs": [
    {
     "data": {
      "text/plain": [
       "36"
      ]
     },
     "execution_count": 16,
     "metadata": {},
     "output_type": "execute_result"
    }
   ],
   "source": [
    "len(data.columns)"
   ]
  },
  {
   "cell_type": "code",
   "execution_count": 17,
   "metadata": {},
   "outputs": [],
   "source": [
    "from sklearn.linear_model import LinearRegression\n",
    "lr = LinearRegression(normalize=True)\n",
    "lr.fit(X_train, y_train)\n",
    "y_test_lr =lr.predict(X_test)"
   ]
  },
  {
   "cell_type": "code",
   "execution_count": 18,
   "metadata": {},
   "outputs": [],
   "source": [
    "from sklearn.ensemble import RandomForestRegressor\n",
    "rf=RandomForestRegressor()\n",
    "rf.fit(X_train,y_train)\n",
    "y_test_rf=rf.predict(X_test)"
   ]
  },
  {
   "cell_type": "code",
   "execution_count": 19,
   "metadata": {},
   "outputs": [
    {
     "data": {
      "text/plain": [
       "<matplotlib.collections.PathCollection at 0x1a2346c7f0>"
      ]
     },
     "execution_count": 19,
     "metadata": {},
     "output_type": "execute_result"
    }
   ],
   "source": [
    "import matplotlib.pyplot as plt\n",
    "plt.scatter(y_test, y_test_rf)"
   ]
  },
  {
   "cell_type": "code",
   "execution_count": 20,
   "metadata": {},
   "outputs": [
    {
     "data": {
      "text/plain": [
       "-0.37022798556629"
      ]
     },
     "execution_count": 20,
     "metadata": {},
     "output_type": "execute_result"
    }
   ],
   "source": [
    "from sklearn.metrics import r2_score\n",
    "r2_score(y_test, y_test_rf)"
   ]
  },
  {
   "cell_type": "code",
   "execution_count": 21,
   "metadata": {},
   "outputs": [
    {
     "data": {
      "text/plain": [
       "PCA(copy=True, iterated_power='auto', n_components=25, random_state=None,\n",
       "  svd_solver='full', tol=0.0, whiten=False)"
      ]
     },
     "execution_count": 21,
     "metadata": {},
     "output_type": "execute_result"
    }
   ],
   "source": [
    "from sklearn.decomposition import PCA\n",
    "pca = PCA(n_components=25, svd_solver='full')\n",
    "pca.fit(X_train)"
   ]
  },
  {
   "cell_type": "code",
   "execution_count": 22,
   "metadata": {},
   "outputs": [],
   "source": [
    "X_train_pca = pca.fit_transform(X_train)\n",
    "lr2 = LinearRegression()\n",
    "lr2.fit(X_train_pca, y_train)\n",
    "y_test_lr2 = lr2.predict(pca.fit_transform(X_test))"
   ]
  },
  {
   "cell_type": "code",
   "execution_count": 23,
   "metadata": {},
   "outputs": [
    {
     "name": "stdout",
     "output_type": "stream",
     "text": [
      "-0.8467781889046018\n"
     ]
    },
    {
     "data": {
      "image/png": "[encoded data removed]",
      "text/plain": [
       "<Figure size 432x288 with 1 Axes>"
      ]
     },
     "metadata": {},
     "output_type": "display_data"
    }
   ],
   "source": [
    "from sklearn.metrics import r2_score\n",
    "plt.scatter(y_test, y_test_lr2)\n",
    "r2 = r2_score(y_test, y_test_lr2)\n",
    "print(r2)"
   ]
  },
  {
   "cell_type": "code",
   "execution_count": 24,
   "metadata": {},
   "outputs": [
    {
     "name": "stdout",
     "output_type": "stream",
     "text": [
      "0.4991901965412876\n"
     ]
    },
    {
     "data": {
      "image/png": "[encoded data removed]",
      "text/plain": [
       "<Figure size 432x288 with 1 Axes>"
      ]
     },
     "metadata": {},
     "output_type": "display_data"
    }
   ],
   "source": [
    "import matplotlib.pyplot as plt\n",
    "from sklearn.metrics import r2_score\n",
    "plt.scatter(y_test, y_test_lr)\n",
    "plt.xlabel(\"Actual(USD)\")\n",
    "plt.ylabel(\"Prediction(USD)\")\n",
    "plt.title(\"Prediction V.S Actual\")\n",
    "r2 = r2_score(y_test, y_test_lr)\n",
    "print(r2)"
   ]
  },
  {
   "cell_type": "code",
   "execution_count": 25,
   "metadata": {},
   "outputs": [
    {
     "data": {
      "text/plain": [
       "0.49920879871650714"
      ]
     },
     "execution_count": 25,
     "metadata": {},
     "output_type": "execute_result"
    }
   ],
   "source": [
    "lrinter = LinearRegression(fit_intercept=False)\n",
    "lrinter.fit(X_train, y_train)\n",
    "y_test_lrinter =lrinter.predict(X_test)\n",
    "r2_score(y_test, y_test_lrinter)"
   ]
  },
  {
   "cell_type": "code",
   "execution_count": 42,
   "metadata": {},
   "outputs": [
    {
     "data": {
      "text/plain": [
       "-5.090735035865891"
      ]
     },
     "execution_count": 42,
     "metadata": {},
     "output_type": "execute_result"
    }
   ],
   "source": [
    "from sklearn.tree import DecisionTreeRegressor\n",
    "dtr=DecisionTreeRegressor(max_depth=2)\n",
    "dtr.fit(X_train, y_train)\n",
    "y_test_dtr =dtr.predict(X_test)\n",
    "r2_score(y_test, y_test_dtr)"
   ]
  },
  {
   "cell_type": "code",
   "execution_count": 26,
   "metadata": {},
   "outputs": [
    {
     "data": {
      "text/plain": [
       "-0.0210325156442579"
      ]
     },
     "execution_count": 26,
     "metadata": {},
     "output_type": "execute_result"
    }
   ],
   "source": [
    "# svm\n",
    "from sklearn import svm\n",
    "vm=svm.SVR(kernel='linear')\n",
    "vm.fit(X_train, y_train)\n",
    "y_test_vm =vm.predict(X_test)\n",
    "r2_score(y_test, y_test_vm)"
   ]
  },
  {
   "cell_type": "code",
   "execution_count": null,
   "metadata": {},
   "outputs": [],
   "source": [
    "vm=svm.SVR(kernel='poly')\n",
    "vm.fit(X_train, y_train)\n",
    "y_test_vm =vm.predict(X_test)\n",
    "r2_score(y_test, y_test_vm)"
   ]
  },
  {
   "cell_type": "code",
   "execution_count": null,
   "metadata": {},
   "outputs": [],
   "source": [
    "vm=svm.SVR(kernel='poly',degree=4,C=10)\n",
    "vm.fit(X_train, y_train)\n",
    "y_test_vm =vm.predict(X_test)\n",
    "r2_score(y_test, y_test_vm)"
   ]
  },
  {
   "cell_type": "code",
   "execution_count": null,
   "metadata": {},
   "outputs": [],
   "source": [
    "for x,y in zip(y_test, y_test_lr):\n",
    "    print('Target={}\\tPrediction={}'.format(x, y))"
   ]
  },
  {
   "cell_type": "code",
   "execution_count": null,
   "metadata": {},
   "outputs": [],
   "source": [
    "lr.coef_"
   ]
  },
  {
   "cell_type": "code",
   "execution_count": null,
   "metadata": {},
   "outputs": [],
   "source": [
    "data.columns[1:]"
   ]
  },
  {
   "cell_type": "code",
   "execution_count": null,
   "metadata": {},
   "outputs": [],
   "source": [
    "from sklearn.metrics import mean_squared_error\n",
    "mean_squared_error(y_test, y_test_lr)"
   ]
  },
  {
   "cell_type": "code",
   "execution_count": 99,
   "metadata": {},
   "outputs": [
    {
     "data": {
      "text/plain": [
       "259341040651875.88"
      ]
     },
     "execution_count": 99,
     "metadata": {},
     "output_type": "execute_result"
    }
   ],
   "source": [
    "mean_squared_error(y_test, y_test_rf)"
   ]
  },
  {
   "cell_type": "code",
   "execution_count": null,
   "metadata": {},
   "outputs": [],
   "source": []
  }
 ],
 "metadata": {
  "kernelspec": {
   "display_name": "Python 3",
   "language": "python",
   "name": "python3"
  },
  "language_info": {
   "codemirror_mode": {
    "name": "ipython",
    "version": 3
   },
   "file_extension": ".py",
   "mimetype": "text/x-python",
   "name": "python",
   "nbconvert_exporter": "python",
   "pygments_lexer": "ipython3",
   "version": "3.6.5"
  }
 },
 "nbformat": 4,
 "nbformat_minor": 2
}
